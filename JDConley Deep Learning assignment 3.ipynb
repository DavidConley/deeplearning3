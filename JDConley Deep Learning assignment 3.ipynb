{
 "cells": [
  {
   "cell_type": "code",
   "execution_count": null,
   "id": "4089c2fb",
   "metadata": {},
   "outputs": [],
   "source": [
    "#John David Conley\n",
    "#Deep Learning assignment 3\n",
    "\n",
    "#1. Create a class Employee and then do the following\n",
    "#• Create a data member to count the number of Employees\n",
    "#• Create a constructor to initialize name, family, salary, department\n",
    "#• Create a function to average salary\n",
    "#• Create a Fulltime Employee class and it should inherit the properties of Employee class\n",
    "#• Create the instances of Fulltime Employee class and Employee class and call their member functions.\n",
    "\n",
    "#2. Numpy\n",
    "#Using NumPy create random vector of size 20 having only float in the range 1-20. \n",
    "#Then reshape the array to 4 by 5\n",
    "#Then replace the max in each row by 0 (axis=1)\n",
    "#(you can NOT implement it via for loop)\n"
   ]
  },
  {
   "cell_type": "code",
   "execution_count": 7,
   "id": "6c1dd00c",
   "metadata": {},
   "outputs": [
    {
     "name": "stdout",
     "output_type": "stream",
     "text": [
      "The average salary is 10004.5.\n"
     ]
    }
   ],
   "source": [
    "#1\n",
    "counter = 0\n",
    "listSal = list()\n",
    "class Employee ():\n",
    "    def __init__(self, name, family, salary, department): \n",
    "       self.name = name\n",
    "       self.family = family\n",
    "       self.salary = salary\n",
    "       self.department = department\n",
    "    def counting (self):\n",
    "        global counter\n",
    "        global listSal\n",
    "        counter = counter + 1\n",
    "        listSal.append(self.salary)\n",
    "    def averSal (self):\n",
    "        global counter\n",
    "        global listSal\n",
    "        sum = 0\n",
    "        for n in listSal:\n",
    "            sum = sum + n\n",
    "        average = sum/counter\n",
    "        print(\"The average salary is \" + str(average) + \".\")\n",
    "        \n",
    "class Fulltime (Employee):\n",
    "    def __init__(self, name, family, salary, department): \n",
    "       super().__init__(name, family, salary, department)\n",
    "    \n",
    "emp1 = Employee(\"SuS\", \"a\", 10001, \"mh\")\n",
    "emp1.counting()\n",
    "emp2 = Employee(\"SaS\", \"a\", 10002, \"hm\")\n",
    "emp2.counting()\n",
    "emp3 = Employee(\"SoS\", \"a\", 10003, \"fm\")\n",
    "emp3.counting()\n",
    "emp4 = Employee(\"SeS\", \"a\", 10004, \"kf\")\n",
    "emp4.counting()\n",
    "emp5 = Fulltime(\"SiS\", \"a\", 10005, \"hd\")\n",
    "emp5.counting()\n",
    "emp6 = Employee(\"SyS\", \"a\", 10006, \"gn\")\n",
    "emp6.counting()\n",
    "emp7 = Employee(\"ShS\", \"a\", 10007, \"qg\")\n",
    "emp7.counting()\n",
    "emp8 = Fulltime(\"SwS\", \"a\", 10008, \"ba\")\n",
    "emp8.counting()\n",
    "\n",
    "emp1.averSal ()\n",
    "   "
   ]
  },
  {
   "cell_type": "code",
   "execution_count": 22,
   "id": "31be795a",
   "metadata": {},
   "outputs": [
    {
     "name": "stdout",
     "output_type": "stream",
     "text": [
      "[ 7.65829371  3.20522166 12.31986461  1.1511895  19.43484226  3.45356992\n",
      " 18.62640722  2.0440971   4.33827263 19.55617859  4.5903843  17.25153692\n",
      " 17.73041473 14.18356546  2.16612559  3.46853328  2.95362898 19.15703031\n",
      "  6.76577752  6.22578609]\n",
      "\n",
      "[[ 7.65829371  3.20522166 12.31986461  1.1511895  19.43484226]\n",
      " [ 3.45356992 18.62640722  2.0440971   4.33827263 19.55617859]\n",
      " [ 4.5903843  17.25153692 17.73041473 14.18356546  2.16612559]\n",
      " [ 3.46853328  2.95362898 19.15703031  6.76577752  6.22578609]]\n",
      "\n",
      "[[ 7.65829371  3.20522166 12.31986461  1.1511895   0.        ]\n",
      " [ 3.45356992 18.62640722  2.0440971   4.33827263  0.        ]\n",
      " [ 4.5903843  17.25153692  0.         14.18356546  2.16612559]\n",
      " [ 3.46853328  2.95362898  0.          6.76577752  6.22578609]]\n"
     ]
    }
   ],
   "source": [
    "#2\n",
    "import numpy as np\n",
    "vec = np.random.uniform(1,20,20)\n",
    "print(vec)\n",
    "print()\n",
    "\n",
    "vec = vec.reshape(4,5)\n",
    "print(vec)\n",
    "print()\n",
    "\n",
    "axMax = np.amax(vec, axis=1)\n",
    "vec = np.where(np.isin(vec, axMax), 0, vec)\n",
    "print(vec)"
   ]
  },
  {
   "cell_type": "code",
   "execution_count": null,
   "id": "8ac4f1f2",
   "metadata": {},
   "outputs": [],
   "source": []
  }
 ],
 "metadata": {
  "kernelspec": {
   "display_name": "Python 3 (ipykernel)",
   "language": "python",
   "name": "python3"
  },
  "language_info": {
   "codemirror_mode": {
    "name": "ipython",
    "version": 3
   },
   "file_extension": ".py",
   "mimetype": "text/x-python",
   "name": "python",
   "nbconvert_exporter": "python",
   "pygments_lexer": "ipython3",
   "version": "3.9.13"
  }
 },
 "nbformat": 4,
 "nbformat_minor": 5
}
